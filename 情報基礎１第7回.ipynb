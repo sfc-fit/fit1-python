{
  "nbformat": 4,
  "nbformat_minor": 0,
  "metadata": {
    "colab": {
      "name": "情報基礎１第7回",
      "provenance": [],
      "authorship_tag": "ABX9TyNWVYj//xEl+xKtCp507dA/",
      "include_colab_link": true
    },
    "kernelspec": {
      "name": "python3",
      "display_name": "Python 3"
    }
  },
  "cells": [
    {
      "cell_type": "markdown",
      "metadata": {
        "id": "view-in-github",
        "colab_type": "text"
      },
      "source": [
        "<a href=\"https://colab.research.google.com/github/sfc-fit/fit1-python/blob/main/%E6%83%85%E5%A0%B1%E5%9F%BA%E7%A4%8E%EF%BC%91%E7%AC%AC7%E5%9B%9E.ipynb\" target=\"_parent\"><img src=\"https://colab.research.google.com/assets/colab-badge.svg\" alt=\"Open In Colab\"/></a>"
      ]
    },
    {
      "cell_type": "markdown",
      "metadata": {
        "id": "-PKpxwwYzvWe"
      },
      "source": [
        "# 第7回　プログラミング入門"
      ]
    },
    {
      "cell_type": "markdown",
      "metadata": {
        "id": "ZWV7tAoz0kCK"
      },
      "source": [
        "## この教材について\n",
        "* 第7回〜第11回はPythonを使ったプログラミングについて勉強します。\n",
        "* 世の中には既にPythonに関する解説がたくさんありますので、この教材では解説は最小限にとどめ、練習問題を中心とした構成にします。必要に応じて外部サイトへのリンク（🔗マーク付き）を掲載しますので、それを参照しながら問題に取り組んでください。\n",
        "* 練習問題には難易度に応じて☆が付いています。☆3個までは標準的な問題、☆4個以上はやや難しい問題です。\n",
        "* この授業の課題として書いたプログラムは、教材改善のためのデータとして利用させていただきます。誰が書いたかわからない状態で処理しますが、プログラム中に住所や氏名などの個人情報を書かないようにしてください。\n"
      ]
    },
    {
      "cell_type": "markdown",
      "metadata": {
        "id": "Mw2anMxX0YYL"
      },
      "source": [
        "## プログラムとは\n",
        "* コンピュータに仕事をさせるための手順を書いたものです。\n",
        "* プログラムを書くことをプログラミングと言います。\n",
        "* プログラムは、コンピュータに理解できる言語で書かないといけません。これをプログラミング言語といいます。\n",
        "* Pythonはプログラミング言語の一種です。人工知能の分野でよく使われています。\n"
      ]
    },
    {
      "cell_type": "markdown",
      "metadata": {
        "id": "lFOqubfa-4yT"
      },
      "source": [
        "## Google Colaboratory について\n",
        "* Googleが提供している Jupyter Notebook の環境です。Googleアカウントがあれば無料で使えます。\n",
        "* Jupyter Notebook とは、ブラウザ画面でプログラムを書いて実行できる環境です。\n",
        "* プログラムだけでなく文章も書けます。この教材は Jupyter Notebook で書いています。\n",
        "\n",
        "🔗[Lesson 3　Google Colaboratory（Jupyter Notebookのオンライン版）の使い方 - @IT](https://www.atmarkit.co.jp/ait/articles/1812/11/news146.html)\n"
      ]
    },
    {
      "cell_type": "markdown",
      "metadata": {
        "id": "I9GW9BnpCSgK"
      },
      "source": [
        "### 教材のコピー\n",
        "* この教材を共有している状態では、編集できません。\n",
        "* 自分の Google Drive にコピーを作ると、それを編集することができます。\n",
        " * 慶應では、keio.jpのアカウントがGoogleアカウントになっています。\n",
        " * 別のGoogleアカウントを持っている場合は、アカウントごとに別の Google Drive になります。右上のアイコンで、今どのアカウントが有効になっているか確認してからコピーしてください。\n",
        "* 「情報基礎１第7回」のすぐ下にあるメニューの**ファイル→ドライブにコピーを保存...**でコピーを作ってみましょう。\n",
        "* 左上のアイコンをクリックすると Google Drive の画面になります。「情報基礎１第7回のコピー」というファイルができていることを確認してください。\n",
        " * **マイドライブ**の中に自動的に **Colab Notebooks** というフォルダができて、その中にファイルが作られます。\n",
        "* 次にこのファイルを開く時は、ファイルを右クリックして、メニューで**アプリを開く→Google Colaboratory** を選びます。\n",
        " * いちいちメニューを出すのが面倒な場合は、Google Drive画面の右上にある歯車アイコンのメニューから**設定→アプリの管理**で、Google Colabotoraryの**デフォルトで使用する**にチェックを入れると、ダブルクリックで開くようになります。\n"
      ]
    },
    {
      "cell_type": "markdown",
      "metadata": {
        "id": "vhzBD8E-OUOf"
      },
      "source": [
        "### 文章の編集\n",
        "* ここからは、上で作ったコピーで作業します。\n",
        "* 文章をダブルクリックすると編集状態になります。\n",
        "* 編集する単位を「セル」と言います。\n",
        "* 文章セルを編集状態にすると、左がテキストエディタ、右がプレビューになります。\n",
        "* 適当に文字を打ってみましょう。\n",
        "* 見出しや箇条書きは Markdown という形式で書きます。\n",
        "  * 🔗[Markdown記法 - 日本語Markdownユーザ会](https://www.markdown.jp/syntax/)\n",
        "* セルとセルの間にマウスカーソルを持っていくと、**+コード**と**+テキスト**が現れます。\n",
        "* **+テキスト**をクリックすると、新しい文章セルが追加されます。\n",
        "* 新しいセルを追加して、何か書いてみましょう。\n"
      ]
    },
    {
      "cell_type": "markdown",
      "metadata": {
        "id": "qg26z-jFIguF"
      },
      "source": [
        "### プログラムを実行する\n",
        "* セルには、文章セルの他にコードセルがあります。\n",
        "* コードセルは、プログラムを書いて、実行するためのものです。\n",
        "* この下にあるのがコードセルです。\n",
        "* コードセルをクリックして選択すると、左端に右向き三角形のアイコンが表示されます。\n",
        "* このアイコンをクリックすると、セルの中に書いたプログラムが実行されます。\n",
        "* 下のセルを実行してみましょう。\n",
        "* `print`は次のカッコの中の式を計算して、計算結果を表示するという命令（正確には関数）です。詳しくは、また後で説明します。"
      ]
    },
    {
      "cell_type": "code",
      "metadata": {
        "id": "mWfdwRlqJAEN",
        "colab": {
          "base_uri": "https://localhost:8080/",
          "height": 34
        },
        "outputId": "7242ddb7-2d13-48dd-ab14-46d2a34f517a"
      },
      "source": [
        "print('Hello, world!')"
      ],
      "execution_count": null,
      "outputs": [
        {
          "output_type": "stream",
          "text": [
            "Hello, world!\n"
          ],
          "name": "stdout"
        }
      ]
    },
    {
      "cell_type": "markdown",
      "metadata": {
        "id": "enAUf87rKicQ"
      },
      "source": [
        "## プログラムの書き方\n",
        "* Pythonは言語ですから、文法があります。\n",
        "* 基本的な文法規則をいくつか説明します。"
      ]
    },
    {
      "cell_type": "markdown",
      "metadata": {
        "id": "otoczJVVQFOp"
      },
      "source": [
        "### 文字の種類"
      ]
    },
    {
      "cell_type": "markdown",
      "metadata": {
        "id": "NCGLP6TbDNXc"
      },
      "source": [
        "* プログラムは原則としてASCII文字セット（いわゆる半角英数）で書きます。\n",
        "* ただし、識別子、文字列リテラル、コメントには日本語なども使えます。これについては、出てきた時に説明します。\n"
      ]
    },
    {
      "cell_type": "markdown",
      "metadata": {
        "id": "C5mzgXr21Qgd"
      },
      "source": [
        "【練習問題07-01☆☆】\n",
        "* 下のコードセルを実行すると SyntaxError （文法的な誤り）と表示されます。\n",
        "* 先ほどのプログラムと違っているところを探し、修正してエラーが出ないようにしなさい。\n",
        " * ブラウザの画面ではわかりにくいので、エラーメッセージをテキストエディタにコピーして、固定幅フォント（courierなど）で表示してみるとわかりやすいです。"
      ]
    },
    {
      "cell_type": "code",
      "metadata": {
        "id": "cCo6YrkJQvxR"
      },
      "source": [
        "print（'Hello, world!'）"
      ],
      "execution_count": null,
      "outputs": []
    },
    {
      "cell_type": "markdown",
      "metadata": {
        "id": "fdSx2UmwOrSn"
      },
      "source": [
        "### 数の計算"
      ]
    },
    {
      "cell_type": "markdown",
      "metadata": {
        "id": "gn-N8da1CvXq"
      },
      "source": [
        "* `print`のカッコの中に計算式を書くと、結果が表示できます。\n",
        "* 計算した結果のことを、その式の*値*と言います。"
      ]
    },
    {
      "cell_type": "code",
      "metadata": {
        "id": "wSicw7juT3EU"
      },
      "source": [
        "print(1+1)"
      ],
      "execution_count": null,
      "outputs": []
    },
    {
      "cell_type": "markdown",
      "metadata": {
        "id": "p5RHoaGAT6So"
      },
      "source": [
        "* Jupyter Notebook では、コードセルの最後の行（まだ1行しか書いてませんが）の値は自動的に表示されるので、`print`を省略することもできます。"
      ]
    },
    {
      "cell_type": "code",
      "metadata": {
        "id": "j85SQIa3UVyV"
      },
      "source": [
        "1+1"
      ],
      "execution_count": null,
      "outputs": []
    },
    {
      "cell_type": "markdown",
      "metadata": {
        "id": "deTb3KITUlbc"
      },
      "source": [
        "* 四則演算は数学と同じように書きます。\n",
        "* それ以外にも計算するための記号（*演算子*と言います）があります。\n",
        " * 🔗[とほほのPython入門 - 演算子 - とほほのWWW入門](http://www.tohoho-web.com/python/operators.html)"
      ]
    },
    {
      "cell_type": "markdown",
      "metadata": {
        "id": "AE9f2mvdX0X_"
      },
      "source": [
        "【練習問題07-02☆】\n",
        "* 1年間（平年）の秒数を計算して表示しなさい。\n",
        "* この下に新しいコードセルを作り、計算式を書き込んで実行します。"
      ]
    },
    {
      "cell_type": "markdown",
      "metadata": {
        "id": "sCit_ShUuCUC"
      },
      "source": [
        "### 文字列リテラル"
      ]
    },
    {
      "cell_type": "markdown",
      "metadata": {
        "id": "jUBXTnxrDiij"
      },
      "source": [
        "* 最初の例で、`print`はコンピュータに対する命令ですが、`Hello, world!`は画面に表示するデータです。\n",
        "* データであることを示すために、シングルクォート（またはダブルクォート）で囲みます。囲まれた部分を文字列リテラルと言います。\n",
        "* シングルクォートを書き忘れると、`Hello, world!`を命令だと思って実行しようとしますが、そんな命令は無いのでエラーになります。"
      ]
    },
    {
      "cell_type": "code",
      "metadata": {
        "id": "Vw0ONWOcw1Ki"
      },
      "source": [
        "print(Hello, world!)"
      ],
      "execution_count": null,
      "outputs": []
    },
    {
      "cell_type": "markdown",
      "metadata": {
        "id": "ChOgrEnexqBV"
      },
      "source": [
        "【練習問題07-03☆】\n",
        "* 文字列リテラルの中には日本語もかけます。\n",
        "* 「こんにちは、みなさん」と表示するプログラムを書きなさい。"
      ]
    },
    {
      "cell_type": "markdown",
      "metadata": {
        "id": "Zp9fHkuOTMDp"
      },
      "source": [
        "### 実行の順序"
      ]
    },
    {
      "cell_type": "markdown",
      "metadata": {
        "id": "W2mgTAcuDyD1"
      },
      "source": [
        "* コンピュータへの命令を書くときの最小単位を*文*と言います。\n",
        "* プログラムは複数の文から成ります。\n",
        "* 特に指定がなければ、上から順に実行されます。"
      ]
    },
    {
      "cell_type": "markdown",
      "metadata": {
        "id": "ym0VtPfwTqcq"
      },
      "source": [
        "【練習問題07-04☆】\n",
        "* 次のプログラムは2個の文から成っています。\n",
        "* 文の順序を入れ替えて、1行目に`Hello,`、2行目に`world!`と表示されるようにしなさい。"
      ]
    },
    {
      "cell_type": "code",
      "metadata": {
        "id": "uO4C_mSZVAQc"
      },
      "source": [
        "print('world!')\n",
        "print('Hello, ')"
      ],
      "execution_count": null,
      "outputs": []
    },
    {
      "cell_type": "markdown",
      "metadata": {
        "id": "nM5Fri71tz6R"
      },
      "source": [
        "### 空白"
      ]
    },
    {
      "cell_type": "markdown",
      "metadata": {
        "id": "NsEv544IEAeQ"
      },
      "source": [
        "* `print`などの単語は途中に空白を入れてはいけません。\n",
        "* それ以外の場所には自由に空白を入れることができます。\n",
        "* 行の先頭の空白には重要な意味がありますが、それは後で説明します。"
      ]
    },
    {
      "cell_type": "code",
      "metadata": {
        "id": "qb49Mkl5ufkZ"
      },
      "source": [
        "print        (         'Hello, world!'           )"
      ],
      "execution_count": null,
      "outputs": []
    },
    {
      "cell_type": "markdown",
      "metadata": {
        "id": "xWydAqyLtzme"
      },
      "source": [
        "### コメント"
      ]
    },
    {
      "cell_type": "markdown",
      "metadata": {
        "id": "T6Ex-s1yEKfe"
      },
      "source": [
        "* コメントは、プログラムの中で実行されない部分です。\n",
        "* プログラムの説明やメモ、一時的に実行したくない文を書くのに使えます。\n",
        "* `#`から後の部分がコメントになります。"
      ]
    },
    {
      "cell_type": "code",
      "metadata": {
        "id": "Z0G3iPj5wGDq"
      },
      "source": [
        "# これはコメントです。\n",
        "print('Hello, world!') # これもコメントです。"
      ],
      "execution_count": null,
      "outputs": []
    },
    {
      "cell_type": "markdown",
      "metadata": {
        "id": "-d0tEQgU2aq_"
      },
      "source": [
        "## 変数\n",
        "🔗[［Python入門］変数とは - @IT](https://www.atmarkit.co.jp/ait/articles/1904/12/news028.html)"
      ]
    },
    {
      "cell_type": "markdown",
      "metadata": {
        "id": "rOPVBuNF2hgv"
      },
      "source": [
        "### 変数と代入"
      ]
    },
    {
      "cell_type": "markdown",
      "metadata": {
        "id": "P7rjNnjnE6UJ"
      },
      "source": [
        "* *変数*とは、データを入れる箱に名前を付けたものです。\n",
        "* 名前に使える文字はアルファベット・数字・アンダースコアです。ただし最初の文字は数字以外でなければなりません。日本語も使えますが、トラブルの原因になるので、あまりお勧めしません。\n",
        "* 変数に値を記憶させることを*代入*と言います。\n",
        "![](http://ipl.sfc.keio.ac.jp/text/info1/resources/variable1.png)"
      ]
    },
    {
      "cell_type": "markdown",
      "metadata": {
        "id": "cE7pfeELEaBo"
      },
      "source": [
        "* 変数に値を代入するには、`変数名 = 値`と書きます。\n",
        "* 一度代入すると、その後は変数名を書くとその変数が記憶している値を書いたのと同じことになります。"
      ]
    },
    {
      "cell_type": "code",
      "metadata": {
        "id": "4TyF26A9uF3i"
      },
      "source": [
        "x = 1\n",
        "print(x)"
      ],
      "execution_count": null,
      "outputs": []
    },
    {
      "cell_type": "markdown",
      "metadata": {
        "id": "8qET_i0ZuD8v"
      },
      "source": [
        "* 新しい値を代入すると、その変数に前に入っていた値は消えてしまいます。"
      ]
    },
    {
      "cell_type": "code",
      "metadata": {
        "id": "yzMe_SQr-l4W"
      },
      "source": [
        "x = 1\n",
        "x = 2\n",
        "print(x)"
      ],
      "execution_count": null,
      "outputs": []
    },
    {
      "cell_type": "markdown",
      "metadata": {
        "id": "ZKpm-Jv3Bi0a"
      },
      "source": [
        "* 変数には、数だけでなく文字列など他のデータも代入できます。"
      ]
    },
    {
      "cell_type": "code",
      "metadata": {
        "id": "fj6_D0sNBqAo"
      },
      "source": [
        "x = 'Hello, world!'\n",
        "print(x)"
      ],
      "execution_count": null,
      "outputs": []
    },
    {
      "cell_type": "markdown",
      "metadata": {
        "id": "Yi0mi-WF_zNu"
      },
      "source": [
        "* 一度も代入したことがない名前は、変数として認識されないのでエラーになります。"
      ]
    },
    {
      "cell_type": "code",
      "metadata": {
        "id": "eXK0MDze_oyV"
      },
      "source": [
        "print(foo)"
      ],
      "execution_count": null,
      "outputs": []
    },
    {
      "cell_type": "markdown",
      "metadata": {
        "id": "HDd4O12WDd8M"
      },
      "source": [
        "### 変数と式"
      ]
    },
    {
      "cell_type": "markdown",
      "metadata": {
        "id": "scye04f-FEC_"
      },
      "source": [
        "* 式の中で変数名を使って計算することができます。"
      ]
    },
    {
      "cell_type": "code",
      "metadata": {
        "id": "xzjlBKuOEnff"
      },
      "source": [
        "x = 2\n",
        "y = x + 1\n",
        "z = x * y\n",
        "print(z)"
      ],
      "execution_count": null,
      "outputs": []
    },
    {
      "cell_type": "markdown",
      "metadata": {
        "id": "hNQN5SGCE8zT"
      },
      "source": [
        "* `x = x + 1`のように、代入する変数自身を計算式の中で使うこともできます。\n",
        "* 変数の今の値を使って計算し、結果を変数の新しい値として記憶します。"
      ]
    },
    {
      "cell_type": "code",
      "metadata": {
        "id": "KVTIFCIpIVYC"
      },
      "source": [
        "x = 1\n",
        "x = x + 1\n",
        "x = x + 1\n",
        "x = x + 1\n",
        "print(x)"
      ],
      "execution_count": null,
      "outputs": []
    },
    {
      "cell_type": "markdown",
      "metadata": {
        "id": "QYQnK_l6CQw2"
      },
      "source": [
        "【練習問題07-05☆】\n",
        "* `x`に1を代入し、`x`の値を2倍する操作を3回繰り返し、その結果を表示するプログラムを書きなさい。"
      ]
    },
    {
      "cell_type": "markdown",
      "metadata": {
        "id": "GMQ2HUrCMlwU"
      },
      "source": [
        "## 関数"
      ]
    },
    {
      "cell_type": "markdown",
      "metadata": {
        "id": "H-8YUq2hLsyP"
      },
      "source": [
        "### 関数の呼び出し"
      ]
    },
    {
      "cell_type": "markdown",
      "metadata": {
        "id": "eHuoGY8JFW9U"
      },
      "source": [
        "* 関数とは、データを受け取って、何らかの処理をし、別のデータを返すものです。\n",
        "* 式の中に`関数名(データ)`という形があると、関数の処理が実行されます。これを*関数呼び出し*と言います。\n",
        " * カッコの中は*引数*（ひきすう）と言い、関数が受け取るデータを書きます。\n",
        " * 関数が返すデータは*返り値*（かえりち）と言います。\n",
        " * 「`関数名(データ)`」の部分は、返り値に置き換えられて、次の計算へ進みます。\n",
        "* 例えば`len`は、文字列データを受け取って、それが何文字あるかを数え、文字数を返す関数です。\n"
      ]
    },
    {
      "cell_type": "code",
      "metadata": {
        "id": "KqSZNJgNQLsB"
      },
      "source": [
        "print(len('Hello, world!'))"
      ],
      "execution_count": null,
      "outputs": []
    },
    {
      "cell_type": "code",
      "metadata": {
        "id": "g53j4mkIQUzf"
      },
      "source": [
        "print(len('Hello, ') + len('world!'))"
      ],
      "execution_count": null,
      "outputs": []
    },
    {
      "cell_type": "markdown",
      "metadata": {
        "id": "I0WPyx8hEdf6"
      },
      "source": [
        "* 引数が２個以上ある場合は、コンマで区切って書きます。\n",
        "* 例えば`max`関数は、引数として数値を何個か受け取り、その中で最大のものを探して返す関数です。"
      ]
    },
    {
      "cell_type": "code",
      "metadata": {
        "id": "FsVbJFWeEpuM"
      },
      "source": [
        "print(max(3,5,1,2,4))"
      ],
      "execution_count": null,
      "outputs": []
    },
    {
      "cell_type": "markdown",
      "metadata": {
        "id": "nu3LnjqyIk1W"
      },
      "source": [
        "【練習問題07-06☆☆】\n",
        "* horse, elephant, hippopotamus, dolphinの中で一番長い単語は何文字か表示するプログラムを書きなさい。"
      ]
    },
    {
      "cell_type": "markdown",
      "metadata": {
        "id": "M7JqjaugNMjk"
      },
      "source": [
        "### ライブラリ関数"
      ]
    },
    {
      "cell_type": "markdown",
      "metadata": {
        "id": "WLa9wX3wFeVH"
      },
      "source": [
        "* `len`や`max`はPythonに最初から組み込まれています。このような関数を*組み込み関数*と言います。\n",
        "* 必要に応じて追加する関数を*ライブラリ関数*と言います。\n",
        " * ライブラリ関数を使う時は、`import`でその関数が保管されている場所（*モジュール*と言います）を指定して、読み込む必要があります。\n",
        " * 例えば、平方根を計算する`sqrt`関数は`math`\bというモジュールに入っています。\n",
        " * `sqrt`関数を呼び出す時は、モジュール名の`math`とピリオドを付けて`math.sqrt(データ)`という形にします。"
      ]
    },
    {
      "cell_type": "code",
      "metadata": {
        "id": "jP-TWjKLOTrz"
      },
      "source": [
        "import math\n",
        "print(math.sqrt(2))"
      ],
      "execution_count": null,
      "outputs": []
    },
    {
      "cell_type": "markdown",
      "metadata": {
        "id": "kN2RfaA5HdHv"
      },
      "source": [
        "## 入出力"
      ]
    },
    {
      "cell_type": "markdown",
      "metadata": {
        "id": "2ZkzWdsGKMRF"
      },
      "source": [
        "### `print`関数"
      ]
    },
    {
      "cell_type": "markdown",
      "metadata": {
        "id": "CCNxmwUGFrFT"
      },
      "source": [
        "* `print`も関数の一つです。\n",
        "* 引数は２個以上かけます。\n",
        "* 返り値は`None`という特別な値です。"
      ]
    },
    {
      "cell_type": "code",
      "metadata": {
        "id": "2lrwKpbfLiro"
      },
      "source": [
        "x = 'Hello, '\n",
        "y = 'world!'\n",
        "z = print(x, y)\n",
        "print(z)"
      ],
      "execution_count": null,
      "outputs": []
    },
    {
      "cell_type": "markdown",
      "metadata": {
        "id": "vJ_DUJfWNORA"
      },
      "source": [
        "### `input`関数"
      ]
    },
    {
      "cell_type": "markdown",
      "metadata": {
        "id": "eaPn8PbtFx0p"
      },
      "source": [
        "* キーボードから１行読み込み、それを文字列として返す関数です。\n",
        "* 引数が無い場合も、カッコは省略できません。"
      ]
    },
    {
      "cell_type": "code",
      "metadata": {
        "id": "pO3SjeFXNoPT"
      },
      "source": [
        "x = input()\n",
        "print(x)"
      ],
      "execution_count": null,
      "outputs": []
    },
    {
      "cell_type": "markdown",
      "metadata": {
        "id": "wr8yh1WyOJDD"
      },
      "source": [
        "* 引数に文字列を与えると、それを表示してから１行読み込みます。"
      ]
    },
    {
      "cell_type": "code",
      "metadata": {
        "id": "2g4i9Y2KPVgx"
      },
      "source": [
        "x = input('何か入力してください：')\n",
        "print(x)"
      ],
      "execution_count": null,
      "outputs": []
    },
    {
      "cell_type": "markdown",
      "metadata": {
        "id": "rk0-ZL_NwTMu"
      },
      "source": [
        "## データの型"
      ]
    },
    {
      "cell_type": "markdown",
      "metadata": {
        "id": "VmwTFkJAF658"
      },
      "source": [
        "* Pythonで扱うデータは、いくつかの種類に分かれます。これをデータの*型*と言います。\n",
        "* 数値と文字列は別の型です。数値は、さらに整数型、浮動小数点数型などに分かれます。\n",
        " * 🔗[浮動小数点って何? - Qiita](https://qiita.com/angel_p_57/items/24078ba4aa5881805ab2)\n",
        "* 型が違うと、一見同じに見えても違う処理が行われます。\n",
        " * 例えば、1は整数型、1.0は浮動小数点数型、'1'は文字列型のデータです。\n",
        " * `+`演算子は、整数型・浮動小数点数型のデータに対しては足し算、文字列型のデータに対しては結合を意味します。"
      ]
    },
    {
      "cell_type": "code",
      "metadata": {
        "id": "sVeEX4wezHrH"
      },
      "source": [
        "print( 1 + 2 )"
      ],
      "execution_count": null,
      "outputs": []
    },
    {
      "cell_type": "code",
      "metadata": {
        "id": "THBVwtQazK0_"
      },
      "source": [
        "print( '1' + '2' )"
      ],
      "execution_count": null,
      "outputs": []
    },
    {
      "cell_type": "markdown",
      "metadata": {
        "id": "B5mRLqcOBN4A"
      },
      "source": [
        "* 違う型のデータを混ぜて演算しようとすると、TypeErrorになります。\n",
        " * ただし、整数型と浮動小数点数型を混ぜた場合は、自動的に浮動小数点数型に変換されて演算されます。"
      ]
    },
    {
      "cell_type": "code",
      "metadata": {
        "id": "qi3EcFh90-vO"
      },
      "source": [
        "print( 1 + '2' )"
      ],
      "execution_count": null,
      "outputs": []
    },
    {
      "cell_type": "markdown",
      "metadata": {
        "id": "U6IqRGhI1nKe"
      },
      "source": [
        "* ある型のデータを、別の型のデータに変換することができます。\n",
        " * `int`関数は、文字列を受け取り、その文字が表す整数を返します。\n",
        " * `float`関数は、文字列を受け取り、その文字が表す浮動小数点数を返します。\n",
        " * `str`関数は、数値を受け取り、それを表す文字列を返します。"
      ]
    },
    {
      "cell_type": "code",
      "metadata": {
        "id": "joYhCk3L2XTb"
      },
      "source": [
        "print( 1 + int('2') )"
      ],
      "execution_count": null,
      "outputs": []
    },
    {
      "cell_type": "code",
      "metadata": {
        "id": "B-tOFWfs2dNh"
      },
      "source": [
        "print( str(1) + '2' )"
      ],
      "execution_count": null,
      "outputs": []
    },
    {
      "cell_type": "markdown",
      "metadata": {
        "id": "8N89exVG35n7"
      },
      "source": [
        "【練習問題07-07☆☆】\n",
        "* `input`関数は文字列を返しますので、数値として計算したい場合は`int`または`float`で変換しなければなりません。\n",
        "* キーボードから入力した数字に１を足した結果を表示するプログラムを書きなさい。"
      ]
    },
    {
      "cell_type": "markdown",
      "metadata": {
        "id": "01VzzYxdCdtp"
      },
      "source": [
        "## 今週の問題"
      ]
    },
    {
      "cell_type": "markdown",
      "metadata": {
        "id": "vqQ1ftadCifF"
      },
      "source": [
        "【練習問題07-08☆】\n",
        "* 次のようなプログラムを書きなさい。\n",
        " * 画面に「お名前は？」と表示します。\n",
        " * キーボードで名前を入力します。（例えば「花子」）\n",
        " * 「こんにちは、」の後にその名前を表示します。（例えば「こんにちは、花子」）"
      ]
    },
    {
      "cell_type": "markdown",
      "metadata": {
        "id": "Gs-7cA21xlgp"
      },
      "source": [
        "【練習問題07-09☆☆】\n",
        "* キーボードから数字を2個入力し、その和、差、積、商を表示するプログラムを書きなさい。"
      ]
    },
    {
      "cell_type": "markdown",
      "metadata": {
        "id": "G8yOW8UxAqEq"
      },
      "source": [
        "【練習問題07-10☆☆】\n",
        "* 🔗[ボディマス指数 - Wikipedia](https://ja.wikipedia.org/wiki/%E3%83%9C%E3%83%87%E3%82%A3%E3%83%9E%E3%82%B9%E6%8C%87%E6%95%B0)の説明を読み、身長と体重を入力してBMIを表示するプログラムを書きなさい。\n",
        "* べき乗の演算子は`**`です。\n",
        " * 🔗[とほほのPython入門 - 演算子 - とほほのWWW入門](http://www.tohoho-web.com/python/operators.html)\n"
      ]
    },
    {
      "cell_type": "markdown",
      "metadata": {
        "id": "CoMMhnauBoLy"
      },
      "source": [
        "【練習問題07-11☆☆☆】\n",
        "* 2次方程式 $ax^2+bx+c=0$ の解の公式は $$x=\\frac{-b\\pm\\sqrt{b^2-4ac}}{2a}$$ です。\n",
        "* 係数 $a, b, c$ の値をキーボードから入力し、2個の解を表示するプログラムを書きなさい。\n",
        " * 平方根を計算するのは`sqrt`関数です。\n",
        "   * 🔗[PythonのSQRT（）関数 - w3big.com](http://www.w3big.com/ja/python/func-number-sqrt.html)\n",
        " * 実数解が無い場合はエラーが出てもかまいません。"
      ]
    },
    {
      "cell_type": "markdown",
      "metadata": {
        "id": "d7vHJvnShg-E"
      },
      "source": [
        "【練習問題07-12☆☆☆☆】\n",
        "* `datetime`モジュールを使うと、現在の時刻を知ることができます。\n",
        " * 実行されるサーバの時間なので、Google Colaboratoryの場合は日本時間ではない時間（おそらく協定世界時）になります。自分のPCにインストールして実行すれば日本時間（他の時間帯に設定している人はその時間）になります。\n",
        "* 🔗[Pythonで現在時刻や今日の日付を表示する - MathPython](https://www.mathpython.com/ja/python-time-now/)の説明を読んで、現在時刻を「2020年4月1日9時0分」のような形式で表示するプログラムを書きなさい。"
      ]
    },
    {
      "cell_type": "markdown",
      "metadata": {
        "id": "QcZldZuCLtrO"
      },
      "source": [
        "【練習問題07-13☆☆☆☆☆】\n",
        "* 数値には複素数型もあります。\n",
        "* 🔗[数値型 int, float, complex](https://docs.python.org/ja/3/library/stdtypes.html#numeric-types-int-float-complex)の説明を読んで\b、次のようなプログラムを書きなさい。\n",
        " * 4個の数値\b$a, b, c, d$ をキーボードから入力します。\n",
        " * 複素数$a+bi$と複素数$c+di$の和、差、積、商を表示します。"
      ]
    }
  ]
}