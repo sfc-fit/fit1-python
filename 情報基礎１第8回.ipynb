{
  "nbformat": 4,
  "nbformat_minor": 0,
  "metadata": {
    "colab": {
      "name": "情報基礎１第8回",
      "provenance": [],
      "authorship_tag": "ABX9TyN3XFZO6/WRpmpr6Fu5KgAq",
      "include_colab_link": true
    },
    "kernelspec": {
      "name": "python3",
      "display_name": "Python 3"
    }
  },
  "cells": [
    {
      "cell_type": "markdown",
      "metadata": {
        "id": "view-in-github",
        "colab_type": "text"
      },
      "source": [
        "<a href=\"https://colab.research.google.com/github/sfc-fit/fit1-python/blob/main/%E6%83%85%E5%A0%B1%E5%9F%BA%E7%A4%8E%EF%BC%91%E7%AC%AC8%E5%9B%9E.ipynb\" target=\"_parent\"><img src=\"https://colab.research.google.com/assets/colab-badge.svg\" alt=\"Open In Colab\"/></a>"
      ]
    },
    {
      "cell_type": "markdown",
      "metadata": {
        "id": "aLXmueB59a7E"
      },
      "source": [
        "# 第8回　場合分け"
      ]
    },
    {
      "cell_type": "markdown",
      "metadata": {
        "id": "cO-JmdkKzJdn"
      },
      "source": [
        "* プログラムは複数の文から成り立っています。\n",
        "* 文は、原則として上から順に実行していきますが、条件を指定して、ある文を実行したりしなかったりすることもできます。\n",
        "* これを*場合分け*あるいは*条件分岐*と言います。"
      ]
    },
    {
      "cell_type": "markdown",
      "metadata": {
        "id": "rleCYrR32byd"
      },
      "source": [
        "## 条件の書き方"
      ]
    },
    {
      "cell_type": "markdown",
      "metadata": {
        "id": "RBf4QZfx2xKr"
      },
      "source": [
        "* 文を実行するかどうか決める条件には、計算した結果が*真偽値(bool)*になるような式を使います。\n"
      ]
    },
    {
      "cell_type": "markdown",
      "metadata": {
        "id": "nT9VBMz71KSq"
      },
      "source": [
        "### 真偽値"
      ]
    },
    {
      "cell_type": "markdown",
      "metadata": {
        "id": "-CnAeotf1OQO"
      },
      "source": [
        "* 真偽値はデータの型の一種で、`True`と`False`という値しかありません。"
      ]
    },
    {
      "cell_type": "code",
      "metadata": {
        "id": "JYE5vJX58duz"
      },
      "source": [
        "print(True)\n",
        "print(False)"
      ],
      "execution_count": null,
      "outputs": []
    },
    {
      "cell_type": "markdown",
      "metadata": {
        "id": "Ag-sI5DF3ojE"
      },
      "source": [
        "### 比較演算子"
      ]
    },
    {
      "cell_type": "markdown",
      "metadata": {
        "id": "OR68aB-13sTV"
      },
      "source": [
        "* 2個のデータを比べて真偽値を返すような演算子を比較演算子と言います。\n",
        "* 例えば、2つの式の値が等しいとき `True` 、等しくないとき `False` を返す演算子は `==` です。"
      ]
    },
    {
      "cell_type": "code",
      "metadata": {
        "id": "636QlxpkQpRk"
      },
      "source": [
        "print(1==1)\n",
        "print(1==2)"
      ],
      "execution_count": null,
      "outputs": []
    },
    {
      "cell_type": "markdown",
      "metadata": {
        "id": "A06PerrzQ-7E"
      },
      "source": [
        "* 他にも大小比較などの演算子があります。\n",
        " * 🔗[とほほのPython入門 - 演算子 - とほほのWWW入門](http://www.tohoho-web.com/python/operators.html)"
      ]
    },
    {
      "cell_type": "code",
      "metadata": {
        "id": "K9awfMKqSFnP"
      },
      "source": [
        "x = 3\n",
        "print(x>2)\n",
        "print(x<2)\n",
        "print(x>=4)\n",
        "print(x<=4)"
      ],
      "execution_count": null,
      "outputs": []
    },
    {
      "cell_type": "markdown",
      "metadata": {
        "id": "ScaO7wKcRiAg"
      },
      "source": [
        "## if文の書き方"
      ]
    },
    {
      "cell_type": "markdown",
      "metadata": {
        "id": "05CGZceeSwYo"
      },
      "source": [
        "* 場合分けを行うには*if文*を使います。\n",
        "* いくつの場合に分けるかによって書き方が違います。\n",
        "\n",
        "🔗[if文を使った条件分岐 | Python入門 - Let'sプログラミング](https://www.javadrive.jp/python/if/index1.html)"
      ]
    },
    {
      "cell_type": "markdown",
      "metadata": {
        "id": "5ZrKvzpZT9ba"
      },
      "source": [
        "### 場合の数が1個のとき"
      ]
    },
    {
      "cell_type": "markdown",
      "metadata": {
        "id": "XdD1VbE2kxX5"
      },
      "source": [
        "```\n",
        "if 条件:\n",
        "  処理\n",
        "```\n",
        "* 条件が成り立つ場合（式の値が `True` の時）に処理を行います。\n",
        "* 条件が成り立たない場合（式の値が `False` の時）は何もしません。\n",
        "* 図にすると次のようになります。\n",
        " * ちなみに、このような図を*流れ図(flow chart)*と言います。\n",
        "\n",
        "![](https://itclass.sfc.keio.ac.jp/text/info1/image/IfThen.png)\n"
      ]
    },
    {
      "cell_type": "markdown",
      "metadata": {
        "id": "-rGFQSjlpjal"
      },
      "source": [
        "* 処理のところには複数の文を書けます。\n",
        "* 条件が成り立たない時にどこまでスキップするかというと、行の最初の空白の数が `if` より多い（インデントが深い）ところをスキップします。"
      ]
    },
    {
      "cell_type": "code",
      "metadata": {
        "id": "2s2sWLpOQIHd"
      },
      "source": [
        "if 1 == 1 :\n",
        "  print('ここは条件が')\n",
        "  print('成り立つ時です。')\n",
        "print('ここは次の文です。')"
      ],
      "execution_count": null,
      "outputs": []
    },
    {
      "cell_type": "code",
      "metadata": {
        "id": "sItBBkKVp5An"
      },
      "source": [
        "if 1 == 2 :\n",
        "  print('ここは条件が')\n",
        "  print('成り立つ時です。')\n",
        "print('ここは次の文です。')"
      ],
      "execution_count": null,
      "outputs": []
    },
    {
      "cell_type": "markdown",
      "metadata": {
        "id": "VdVPbIgjQjN5"
      },
      "source": [
        "【練習問題08-01☆】\n",
        "* 次のコードを実行するとエラーが出ます。1文字だけ付け加えて、「xが1と等しい」と表示されるようにしなさい。"
      ]
    },
    {
      "cell_type": "code",
      "metadata": {
        "id": "ovvI7bhOQlaY"
      },
      "source": [
        "x = 1\n",
        "if x = 1 :\n",
        "  print('xが1と等しい')"
      ],
      "execution_count": null,
      "outputs": []
    },
    {
      "cell_type": "markdown",
      "metadata": {
        "id": "RPX4_L0dvi2g"
      },
      "source": [
        "【練習問題08-02☆】\n",
        "* キーボードから数字を入力し、それが5以上なら「大きい」と表示するプログラムを書きなさい。"
      ]
    },
    {
      "cell_type": "markdown",
      "metadata": {
        "id": "sEb-O2NYbE4g"
      },
      "source": [
        "### 場合の数が2個のとき"
      ]
    },
    {
      "cell_type": "markdown",
      "metadata": {
        "id": "5fPkzpnwbNs8"
      },
      "source": [
        "```\n",
        "if 条件 :\n",
        "  処理1\n",
        "else :\n",
        "  処理2\n",
        "```\n",
        "* 条件が成り立つ場合（式の値が `True` の時）に処理1を行います。\n",
        "* 条件が成り立たない場合（式の値が `False` の時）に処理2を行います。\n",
        "* 図にすると次のようになります。\n",
        "\n",
        "![](https://itclass.sfc.keio.ac.jp/text/info1/image/IfThenElse.png)"
      ]
    },
    {
      "cell_type": "markdown",
      "metadata": {
        "id": "Jiv0-Uj-ssfI"
      },
      "source": [
        "* `if`と`else`のインデントは同じでなければいけません。\n",
        "* 処理1と処理2のインデントは`if`と`else`より深くなければいけません。"
      ]
    },
    {
      "cell_type": "code",
      "metadata": {
        "id": "4LvzGBjzpnZC"
      },
      "source": [
        "if 1 == 1 :\n",
        "  print('ここは条件が')\n",
        "  print('成り立つ時です。')\n",
        "else:\n",
        "  print('ここは条件が')\n",
        "  print('成り立たない時です。')\n",
        "print('ここは次の文です。')"
      ],
      "execution_count": null,
      "outputs": []
    },
    {
      "cell_type": "code",
      "metadata": {
        "id": "qrF8n43bp_Ae"
      },
      "source": [
        "if 1 == 2 :\n",
        "  print('ここは条件が')\n",
        "  print('成り立つ時です。')\n",
        "else:\n",
        "  print('ここは条件が')\n",
        "  print('成り立たない時です。')\n",
        "print('ここは次の文です。')"
      ],
      "execution_count": null,
      "outputs": []
    },
    {
      "cell_type": "markdown",
      "metadata": {
        "id": "jftiCu4PTDD3"
      },
      "source": [
        "【練習問題08-03☆☆】\n",
        "* キーボードから数字を入力し、それが偶数なら「偶数」、奇数なら「奇数」と表示するプログラムを書きなさい。\n",
        " * 偶数とは、2で割った余りが0になる数です。\n",
        " * aをbで割ったあまりは `a % b` で計算できます。"
      ]
    },
    {
      "cell_type": "markdown",
      "metadata": {
        "id": "RXHw1CTZROqH"
      },
      "source": [
        "### 場合の数が3個以上のとき"
      ]
    },
    {
      "cell_type": "markdown",
      "metadata": {
        "id": "ogwFIoqHRSJ2"
      },
      "source": [
        "```\n",
        "if 条件1 :\n",
        "  処理1\n",
        "elif 条件2 :\n",
        "  処理2\n",
        "elif 条件3 :\n",
        "  処理3\n",
        "....\n",
        "elif 条件n :\n",
        "  処理n\n",
        "else :\n",
        "  処理n+1\n",
        "```\n",
        "* 真偽値は`True`か`False`か2種類の値しかありませんから、3個以上の場合に分けたい時は複数の条件を組み合わせる必要があります。\n",
        "* 条件1,2,3,...,nを順に調べて、最初に成り立った条件のところの処理を行います。\n",
        "* `elif`は何個でも書けます。\n"
      ]
    },
    {
      "cell_type": "code",
      "metadata": {
        "id": "JEpwY4d9wgQk"
      },
      "source": [
        "if 1 == 1 :\n",
        "  print('ここは条件1が')\n",
        "  print('成り立つ時です。')\n",
        "elif 1 == 1 :\n",
        "  print('ここは条件1が成り立たなくて')\n",
        "  print('条件2が成り立つ時です。')\n",
        "else:\n",
        "  print('ここは条件1も条件2も')\n",
        "  print('成り立たない時です。')\n",
        "print('ここは次の文です。')"
      ],
      "execution_count": null,
      "outputs": []
    },
    {
      "cell_type": "code",
      "metadata": {
        "id": "5SQ5MPaVxKiE"
      },
      "source": [
        "if 1 == 2 :\n",
        "  print('ここは条件1が')\n",
        "  print('成り立つ時です。')\n",
        "elif 1 == 1 :\n",
        "  print('ここは条件1が成り立たなくて')\n",
        "  print('条件2が成り立つ時です。')\n",
        "else:\n",
        "  print('ここは条件1も条件2も')\n",
        "  print('成り立たない時です。')\n",
        "print('ここは次の文です。')"
      ],
      "execution_count": null,
      "outputs": []
    },
    {
      "cell_type": "code",
      "metadata": {
        "id": "6Fk7uDovxOgT"
      },
      "source": [
        "if 1 == 2 :\n",
        "  print('ここは条件1が')\n",
        "  print('成り立つ時です。')\n",
        "elif 1 == 3 :\n",
        "  print('ここは条件1が成り立たなくて')\n",
        "  print('条件2が成り立つ時です。')\n",
        "else:\n",
        "  print('ここは条件1も条件2も')\n",
        "  print('成り立たない時です。')\n",
        "print('ここは次の文です。')"
      ],
      "execution_count": null,
      "outputs": []
    },
    {
      "cell_type": "markdown",
      "metadata": {
        "id": "nqrGV3ugTNcb"
      },
      "source": [
        "【練習問題08-04☆】\n",
        "* キーボードから文字列を入力し、それが「朝」なら「おはよう」、「昼」なら「こんにちは」、「夜」なら「こんばんは」、それ以外なら「わからないよ」と表示するプログラムを書きなさい。"
      ]
    },
    {
      "cell_type": "markdown",
      "metadata": {
        "id": "ssBEFJNKUhAP"
      },
      "source": [
        "## 複雑な条件"
      ]
    },
    {
      "cell_type": "markdown",
      "metadata": {
        "id": "s96T5N6YWNVz"
      },
      "source": [
        "### 複数個の比較演算子"
      ]
    },
    {
      "cell_type": "markdown",
      "metadata": {
        "id": "HyIcrifdbWao"
      },
      "source": [
        "* 比較演算子を複数個続けて書くと、すべての比較が成り立つときに`True`になります。"
      ]
    },
    {
      "cell_type": "code",
      "metadata": {
        "id": "XCQVUlKwbhGk"
      },
      "source": [
        "print(1 < 2 < 3)\n",
        "print(1 < 3 < 2)"
      ],
      "execution_count": null,
      "outputs": []
    },
    {
      "cell_type": "markdown",
      "metadata": {
        "id": "9HOUZB7HUnXY"
      },
      "source": [
        "### 論理演算子"
      ]
    },
    {
      "cell_type": "markdown",
      "metadata": {
        "id": "5RqN6WoyckSY"
      },
      "source": [
        "* 論理演算子`and`, `or`, `not`は、真偽値の「かつ」、「または」、「〜でない」を計算する演算子です。\n",
        " * 🔗[とほほのPython入門 - 演算子 - とほほのWWW入門](http://www.tohoho-web.com/python/operators.html)\n",
        " * 🔗[X-4 命題論理の基礎](https://docs.google.com/presentation/d/1WiNduhjV_4SF7KEY-ktm92iH5ebZhhg2jgX5AvLRINU/edit#slide=id.p)"
      ]
    },
    {
      "cell_type": "markdown",
      "metadata": {
        "id": "4qdhw_OwlVbK"
      },
      "source": [
        "【練習問題08-05☆】\n",
        "* 次のような意味になる式を書きなさい。\n",
        "\n",
        "1. `x`が1以上で10以下\n",
        "2. `x`は3より小さいか5より大きい\n",
        "3. `x`は`y`と`ｚ`のどちらかよりは大きい"
      ]
    },
    {
      "cell_type": "markdown",
      "metadata": {
        "id": "SoSO9cB3mOpO"
      },
      "source": [
        "### if文の入れ子"
      ]
    },
    {
      "cell_type": "markdown",
      "metadata": {
        "id": "vpRH0IQWQbIx"
      },
      "source": [
        "* if文の処理のところにまたif文を書くことができます。\n",
        "* `if`と`else`の対応は、インデントの深さで決まります。"
      ]
    },
    {
      "cell_type": "code",
      "metadata": {
        "id": "B7Q7ZpBXQvRP"
      },
      "source": [
        "if 1 == 1 :\n",
        "  print('ここは条件1が成り立つ時です。')\n",
        "  if 1 == 1 :\n",
        "    print('ここは条件1が成り立ち、条件2も成り立つ時です。')\n",
        "  else:\n",
        "    print('ここは条件1が成り立ち、条件2は成り立たない時です。')\n",
        "else:\n",
        "  print('ここは条件1が成り立たない時です。')\n"
      ],
      "execution_count": null,
      "outputs": []
    },
    {
      "cell_type": "markdown",
      "metadata": {
        "id": "9amOOKbD0h9D"
      },
      "source": [
        "## 今週の問題"
      ]
    },
    {
      "cell_type": "markdown",
      "metadata": {
        "id": "Zye5lffIT_aw"
      },
      "source": [
        "【練習問題08-06☆】\n",
        "* 画面に「パスワード（8文字以上）」と表示してキーボードから文字列を入力し、入力された文字列の長さが8文字未満だったら「短すぎます」と表示するプログラムを書きなさい。"
      ]
    },
    {
      "cell_type": "markdown",
      "metadata": {
        "id": "KUdbtW1SaDWq"
      },
      "source": [
        "【練習問題08-07☆☆】\n",
        "* 画面に「何月？」と表示して数字を入力し、その月の日数（平年）を表示するプログラムを書きなさい。ただし、1から12以外の数字を入力した時は、「そんな月はありません」と表示しなさい。"
      ]
    },
    {
      "cell_type": "markdown",
      "metadata": {
        "id": "myI1HAS5bCg-"
      },
      "source": [
        "【練習問題08-08☆☆】\n",
        "* [練習問題07-10](https://colab.research.google.com/drive/13N0TgHr_RCODap4K_q2VaYZP8VeMSqZi#scrollTo=G8yOW8UxAqEq&line=4&uniqifier=1)に追加して、世界保健機関の基準に従って「低体重」、「標準」、「太り気味」、「肥満」のどれかを表示するようにしなさい。\n",
        " * 🔗[ボディマス指数 - Wikipedia](https://ja.wikipedia.org/wiki/%E3%83%9C%E3%83%87%E3%82%A3%E3%83%9E%E3%82%B9%E6%8C%87%E6%95%B0)"
      ]
    },
    {
      "cell_type": "markdown",
      "metadata": {
        "id": "syOCtn5ddPQk"
      },
      "source": [
        "【練習問題08-09☆☆】\n",
        "* [練習問題07-11](https://colab.research.google.com/drive/13N0TgHr_RCODap4K_q2VaYZP8VeMSqZi#scrollTo=CoMMhnauBoLy&line=5&uniqifier=1)を修正し、実数解がない場合は「実数解がありません」と表示するようにしなさい。"
      ]
    },
    {
      "cell_type": "markdown",
      "metadata": {
        "id": "eexJ_1dOiri6"
      },
      "source": [
        "【練習問題08-10☆☆】\n",
        "* 変数`x`, `y`, `z`には数値が代入されているとします。次の式の中で同じ意味を持つものを選びなさい。\n",
        " * 🔗[ドモルガンの法則の解説 - 高校数学の美しい物語](https://mathtrain.jp/de)\n",
        "\n",
        "1. `x < y < z`\n",
        "2. `x < y and y < z`\n",
        "3. `x < y or y < z`\n",
        "6. `not(x >= y) and not(y >= z)`\n",
        "7. `not(x >= y) or not(y >= z)`\n",
        "4. `not(x >= y and y >= z)`\n",
        "5. `not(x >= y or y >= z)`\n"
      ]
    },
    {
      "cell_type": "markdown",
      "metadata": {
        "id": "umrwgr9kMVKI"
      },
      "source": [
        "【練習問題08-11☆☆☆】\n",
        "* 次の説明を読み、西暦年を入力して平年かうるう年か表示するプログラムを書きなさい。\n",
        " * 🔗[どの年がうるう年になるの？ – 国立天文台](https://www.nao.ac.jp/faq/a0306.html)"
      ]
    },
    {
      "cell_type": "markdown",
      "metadata": {
        "id": "d6CnBaN0M-gb"
      },
      "source": [
        "【練習問題08-12☆☆☆】\n",
        "* 数字を入力し、次のように表示するプログラムを書きなさい。ただし、`elif`と`and`を使わず、`if`の入れ子を使うこと。\n",
        " * 2で割り切れて3で割り切れない時は「2の倍数」\n",
        " * 3で割り切れて2で割り切れない時は「3の倍数」\n",
        " * 2でも3でも割り切れる時は「6の倍数」\n",
        " * 2でも3でも割り切れない時は「その他」"
      ]
    },
    {
      "cell_type": "markdown",
      "metadata": {
        "id": "_s8FeIVdaYjg"
      },
      "source": [
        "【練習問題08-13☆☆☆☆】\n",
        "* CNSのログイン名には次の規則があります。\n",
        " * 最初の文字はsが総合政策学部、tが環境情報学部、iが看護医療学部です。\n",
        " * 2文字目と3文字目は入学年度で、90〜99は1990年度〜1999年度、00〜89は2000年度〜2089年度です。2090年度以降にどうするかは決まっていません。\n",
        "* ログイン名を入力し、例えばs20999xxならば「総合政策学部2020年度入学」と表示するように下のコードを修正しなさい。\n",
        " * 変数`s`に文字列が代入されている時、その最初の文字は`s[0]`、2文字目と3文字目は`s[1:3]`と書きます（詳しくは第10回で説明します）。\n",
        " * 文字列の大小比較は辞書式順序で行います。\n"
      ]
    },
    {
      "cell_type": "code",
      "metadata": {
        "id": "YrBDyKeqZrYu"
      },
      "source": [
        "s = input('ログイン名？')\n",
        "print(s[0])\n",
        "print(s[1:3])"
      ],
      "execution_count": null,
      "outputs": []
    },
    {
      "cell_type": "markdown",
      "metadata": {
        "id": "FlOckaA3goGx"
      },
      "source": [
        "【練習問題08-14☆☆☆☆】\n",
        "* [練習問題07-08](https://colab.research.google.com/drive/13N0TgHr_RCODap4K_q2VaYZP8VeMSqZi#scrollTo=vqQ1ftadCifF)を修正し、空文字列が入力されたら「こんにちは、名無しさん」と表示するようにしなさい。ただし、次の説明を読んで、if文ではなく三項演算子を使うこと。\n",
        " * 🔗[三項演算子(Python) - Qiita](https://qiita.com/howmuch515/items/bf6d21f603d9736fb4a5)"
      ]
    },
    {
      "cell_type": "markdown",
      "metadata": {
        "id": "sIoOR3ynj_dM"
      },
      "source": [
        "【練習問題08-15☆☆☆☆☆】\n",
        "* 次の説明を読んで、練習問題08-14を三項演算子ではなくor演算子を使うように修正しなさい。\n",
        " * 🔗[Pythonのandとorはif文以外でも使える？andとorの動作が面白いという話をします - Python学習チャンネル by PyQ](https://blog.pyq.jp/entry/python_kaiketsu_181016)"
      ]
    }
  ]
}